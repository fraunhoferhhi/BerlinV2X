{
 "cells": [
  {
   "cell_type": "markdown",
   "source": [
    "# Multi-environment automotive QoS prediction using AI/ML\n",
    "## Starter notebook\n",
    "\n",
    "Example of a solution to the problem statement \"Multi-environment automotive QoS prediction using AI/ML\" from [ITU AI/ML in 5G Challenge 2023](https://aiforgood.itu.int/about-ai-for-good/aiml-in-5g-challenge/)\n"
   ],
   "metadata": {
    "collapsed": false
   }
  },
  {
   "cell_type": "code",
   "execution_count": 1,
   "outputs": [],
   "source": [
    "from pathlib import Path\n",
    "import pandas as pd\n",
    "from sklearn.ensemble import RandomForestRegressor"
   ],
   "metadata": {
    "collapsed": false
   }
  },
  {
   "cell_type": "markdown",
   "source": [
    "### Data loading\n",
    "\n",
    "The data is available at [IEEE Dataport](https://ieee-dataport.org/open-access/berlin-v2x).\n",
    "\n",
    "You can directly load the preprocessed dataset `cellular_dataframe.parquet`. Alternatively, you can modify the preprocessing chain to boost performance (e.g. by using a finer resolution as 1s). For more information, check the [preprocessing notebooks](https://github.com/fraunhoferhhi/BerlinV2X/tree/main/preprocess).\n",
    "\n"
   ],
   "metadata": {
    "collapsed": false
   }
  },
  {
   "cell_type": "code",
   "execution_count": 2,
   "outputs": [],
   "source": [
    "# Optional: preprocess the data from the sources\n",
    "\n",
    "data_path = Path.cwd().parent/\"data\"\n",
    "cell_df = pd.read_parquet(data_path/\"cellular_dataframe.parquet\")"
   ],
   "metadata": {
    "collapsed": false
   }
  },
  {
   "cell_type": "markdown",
   "source": [
    "### Problem setup\n",
    "\n",
    "In this example, we focus on downlink datarate as our QoS value to predict and we define train and test data as coming from operator 1 and 2, respectively."
   ],
   "metadata": {
    "collapsed": false
   }
  },
  {
   "cell_type": "code",
   "execution_count": 3,
   "outputs": [],
   "source": [
    "# Filter only for downlink measurements and a target datarate of 350 Mbps, which was set for DL datarate measurements\n",
    "\n",
    "filtered_data = cell_df.query(\"direction == 'downlink' & target_datarate == 350000000\")\n",
    "\n",
    "# Remove incomplete measurements without datarate\n",
    "filtered_data = filtered_data.dropna(subset='datarate')\n",
    "\n",
    "# Train and test split along operators\n",
    "train_data = filtered_data.query(\"operator == 1\")\n",
    "test_data = filtered_data.query(\"operator == 2\")"
   ],
   "metadata": {
    "collapsed": false
   }
  },
  {
   "cell_type": "markdown",
   "source": [
    "### Feature selection"
   ],
   "metadata": {
    "collapsed": false
   }
  },
  {
   "cell_type": "code",
   "execution_count": 5,
   "outputs": [],
   "source": [
    "qos_column = 'datarate'\n",
    "feature_columns = [\n",
    "     'PCell_RSRP_max',\n",
    "     'PCell_RSRQ_max',\n",
    "     'PCell_RSSI_max',\n",
    "     'PCell_SNR_1',\n",
    "     'PCell_SNR_2',\n",
    "     'PCell_Downlink_Num_RBs',\n",
    "     'PCell_Downlink_TB_Size',\n",
    "     'PCell_Downlink_Average_MCS',\n",
    "     'PCell_Downlink_bandwidth_MHz',\n",
    "     'PCell_Cell_Identity',\n",
    "     'PCell_freq_MHz',\n",
    "     'SCell_RSRP_max',\n",
    "     'SCell_RSRQ_max',\n",
    "     'SCell_RSSI_max',\n",
    "     'SCell_SNR_1',\n",
    "     'SCell_SNR_2',\n",
    "     'SCell_Downlink_Num_RBs',\n",
    "     'SCell_Downlink_TB_Size',\n",
    "     'SCell_Downlink_Average_MCS',\n",
    "     'SCell_Downlink_bandwidth_MHz',\n",
    "     'SCell_Cell_Identity',\n",
    "     'SCell_freq_MHz',\n",
    "     'Latitude',\n",
    "     'Longitude',\n",
    "     'Altitude',\n",
    "     'speed_kmh',\n",
    "     'COG',\n",
    "     'precipIntensity',\n",
    "     'precipProbability',\n",
    "     'temperature',\n",
    "     'apparentTemperature',\n",
    "     'dewPoint',\n",
    "     'humidity',\n",
    "     'pressure',\n",
    "     'windSpeed',\n",
    "     'cloudCover',\n",
    "     'uvIndex',\n",
    "     'visibility',\n",
    "     'Traffic Jam Factor']\n",
    "\n",
    "x_train, y_train = train_data[feature_columns], train_data[qos_column]\n",
    "x_test, y_test = test_data[feature_columns], test_data[qos_column]\n",
    "\n",
    "# Missing value imputation\n",
    "x_train = x_train.fillna(0)\n",
    "x_test = x_test.fillna(0)"
   ],
   "metadata": {
    "collapsed": false
   }
  },
  {
   "cell_type": "markdown",
   "source": [
    "### Prediction algorithm\n",
    "\n",
    "You may refine your algorithm with domain adaptation or transfer learning techniques (Check for instance the library [ADAPT](https://adapt-python.github.io/)).\n",
    "\n",
    "#### Train"
   ],
   "metadata": {
    "collapsed": false
   }
  },
  {
   "cell_type": "code",
   "execution_count": 6,
   "outputs": [
    {
     "data": {
      "text/plain": "RandomForestRegressor()",
      "text/html": "<style>#sk-container-id-1 {color: black;background-color: white;}#sk-container-id-1 pre{padding: 0;}#sk-container-id-1 div.sk-toggleable {background-color: white;}#sk-container-id-1 label.sk-toggleable__label {cursor: pointer;display: block;width: 100%;margin-bottom: 0;padding: 0.3em;box-sizing: border-box;text-align: center;}#sk-container-id-1 label.sk-toggleable__label-arrow:before {content: \"▸\";float: left;margin-right: 0.25em;color: #696969;}#sk-container-id-1 label.sk-toggleable__label-arrow:hover:before {color: black;}#sk-container-id-1 div.sk-estimator:hover label.sk-toggleable__label-arrow:before {color: black;}#sk-container-id-1 div.sk-toggleable__content {max-height: 0;max-width: 0;overflow: hidden;text-align: left;background-color: #f0f8ff;}#sk-container-id-1 div.sk-toggleable__content pre {margin: 0.2em;color: black;border-radius: 0.25em;background-color: #f0f8ff;}#sk-container-id-1 input.sk-toggleable__control:checked~div.sk-toggleable__content {max-height: 200px;max-width: 100%;overflow: auto;}#sk-container-id-1 input.sk-toggleable__control:checked~label.sk-toggleable__label-arrow:before {content: \"▾\";}#sk-container-id-1 div.sk-estimator input.sk-toggleable__control:checked~label.sk-toggleable__label {background-color: #d4ebff;}#sk-container-id-1 div.sk-label input.sk-toggleable__control:checked~label.sk-toggleable__label {background-color: #d4ebff;}#sk-container-id-1 input.sk-hidden--visually {border: 0;clip: rect(1px 1px 1px 1px);clip: rect(1px, 1px, 1px, 1px);height: 1px;margin: -1px;overflow: hidden;padding: 0;position: absolute;width: 1px;}#sk-container-id-1 div.sk-estimator {font-family: monospace;background-color: #f0f8ff;border: 1px dotted black;border-radius: 0.25em;box-sizing: border-box;margin-bottom: 0.5em;}#sk-container-id-1 div.sk-estimator:hover {background-color: #d4ebff;}#sk-container-id-1 div.sk-parallel-item::after {content: \"\";width: 100%;border-bottom: 1px solid gray;flex-grow: 1;}#sk-container-id-1 div.sk-label:hover label.sk-toggleable__label {background-color: #d4ebff;}#sk-container-id-1 div.sk-serial::before {content: \"\";position: absolute;border-left: 1px solid gray;box-sizing: border-box;top: 0;bottom: 0;left: 50%;z-index: 0;}#sk-container-id-1 div.sk-serial {display: flex;flex-direction: column;align-items: center;background-color: white;padding-right: 0.2em;padding-left: 0.2em;position: relative;}#sk-container-id-1 div.sk-item {position: relative;z-index: 1;}#sk-container-id-1 div.sk-parallel {display: flex;align-items: stretch;justify-content: center;background-color: white;position: relative;}#sk-container-id-1 div.sk-item::before, #sk-container-id-1 div.sk-parallel-item::before {content: \"\";position: absolute;border-left: 1px solid gray;box-sizing: border-box;top: 0;bottom: 0;left: 50%;z-index: -1;}#sk-container-id-1 div.sk-parallel-item {display: flex;flex-direction: column;z-index: 1;position: relative;background-color: white;}#sk-container-id-1 div.sk-parallel-item:first-child::after {align-self: flex-end;width: 50%;}#sk-container-id-1 div.sk-parallel-item:last-child::after {align-self: flex-start;width: 50%;}#sk-container-id-1 div.sk-parallel-item:only-child::after {width: 0;}#sk-container-id-1 div.sk-dashed-wrapped {border: 1px dashed gray;margin: 0 0.4em 0.5em 0.4em;box-sizing: border-box;padding-bottom: 0.4em;background-color: white;}#sk-container-id-1 div.sk-label label {font-family: monospace;font-weight: bold;display: inline-block;line-height: 1.2em;}#sk-container-id-1 div.sk-label-container {text-align: center;}#sk-container-id-1 div.sk-container {/* jupyter's `normalize.less` sets `[hidden] { display: none; }` but bootstrap.min.css set `[hidden] { display: none !important; }` so we also need the `!important` here to be able to override the default hidden behavior on the sphinx rendered scikit-learn.org. See: https://github.com/scikit-learn/scikit-learn/issues/21755 */display: inline-block !important;position: relative;}#sk-container-id-1 div.sk-text-repr-fallback {display: none;}</style><div id=\"sk-container-id-1\" class=\"sk-top-container\"><div class=\"sk-text-repr-fallback\"><pre>RandomForestRegressor()</pre><b>In a Jupyter environment, please rerun this cell to show the HTML representation or trust the notebook. <br />On GitHub, the HTML representation is unable to render, please try loading this page with nbviewer.org.</b></div><div class=\"sk-container\" hidden><div class=\"sk-item\"><div class=\"sk-estimator sk-toggleable\"><input class=\"sk-toggleable__control sk-hidden--visually\" id=\"sk-estimator-id-1\" type=\"checkbox\" checked><label for=\"sk-estimator-id-1\" class=\"sk-toggleable__label sk-toggleable__label-arrow\">RandomForestRegressor</label><div class=\"sk-toggleable__content\"><pre>RandomForestRegressor()</pre></div></div></div></div></div>"
     },
     "execution_count": 6,
     "metadata": {},
     "output_type": "execute_result"
    }
   ],
   "source": [
    "# Create algorithm\n",
    "rf = RandomForestRegressor()\n",
    "\n",
    "# Train\n",
    "rf.fit(x_train, y_train)\n"
   ],
   "metadata": {
    "collapsed": false
   }
  },
  {
   "cell_type": "markdown",
   "source": [
    "#### Compute test score"
   ],
   "metadata": {
    "collapsed": false
   }
  },
  {
   "cell_type": "code",
   "execution_count": 7,
   "outputs": [
    {
     "data": {
      "text/plain": "0.8207325503480274"
     },
     "execution_count": 7,
     "metadata": {},
     "output_type": "execute_result"
    }
   ],
   "source": [
    "rf.score(x_test, y_test)"
   ],
   "metadata": {
    "collapsed": false
   }
  }
 ],
 "metadata": {
  "kernelspec": {
   "display_name": "Python 3",
   "language": "python",
   "name": "python3"
  },
  "language_info": {
   "codemirror_mode": {
    "name": "ipython",
    "version": 2
   },
   "file_extension": ".py",
   "mimetype": "text/x-python",
   "name": "python",
   "nbconvert_exporter": "python",
   "pygments_lexer": "ipython2",
   "version": "2.7.6"
  }
 },
 "nbformat": 4,
 "nbformat_minor": 0
}
